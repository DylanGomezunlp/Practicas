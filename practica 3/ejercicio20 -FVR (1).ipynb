{
 "cells": [
  {
   "cell_type": "markdown",
   "id": "b015a19f",
   "metadata": {},
   "source": [
    "# Actividad 1 por Python plus\n"
   ]
  },
  {
   "cell_type": "markdown",
   "id": "b0d0ad1d",
   "metadata": {},
   "source": [
    "## Parte I: resolvé el siguiente desafío:"
   ]
  },
  {
   "cell_type": "markdown",
   "id": "1d43ae0c",
   "metadata": {},
   "source": [
    "EJERCICIO 20: dado el archivo denominado [Pokemon.csv](https://archivos.linti.unlp.edu.ar/index.php/s/l0v1FI2FlSKpVnK) que contiene datos sobre pokemones, se desea generar una función que retorne la cantidad de pokemones con valor total (Total) inferior a 500.\n",
    "\n",
    "Incluir el código de invocación a la función donde se pueda probar la misma. "
   ]
  },
  {
   "cell_type": "code",
   "execution_count": 1,
   "id": "5021bb7c",
   "metadata": {},
   "outputs": [],
   "source": [
    "import csv\n",
    "import os\n",
    "def pokemonesmenor(csvreader):\n",
    "    lista_nueva = []\n",
    "    for linea in csvreader:\n",
    "       if (int(linea[4]) < 500):\n",
    "           lista_nueva.append(linea)\n",
    "    return lista_nueva\n",
    "\n",
    "nom_archivo = \"Pokemon.csv\"\n",
    "archivo = open(os.path.join(os.getcwd(), nom_archivo), \"r\", encoding=\"UTF-8\")\n",
    "csvreader = csv.reader(archivo, delimiter=',')\n",
    "header = next(csvreader)\n",
    "lista_nueva = pokemonesmenor(csvreader)\n",
    "print(lista_nueva)"
   ]
  }
 ],
 "metadata": {
  "kernelspec": {
   "display_name": "Python 3 (ipykernel)",
   "language": "python",
   "name": "python3"
  },
  "language_info": {
   "codemirror_mode": {
    "name": "ipython",
    "version": 3
   },
   "file_extension": ".py",
   "mimetype": "text/x-python",
   "name": "python",
   "nbconvert_exporter": "python",
   "pygments_lexer": "ipython3",
   "version": "3.8.10"
  }
 },
 "nbformat": 4,
 "nbformat_minor": 5
}
