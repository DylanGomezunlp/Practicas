{
 "cells": [
  {
   "cell_type": "markdown",
   "id": "fbecaf4e",
   "metadata": {},
   "source": [
    "## Ejercicio 10. \n",
    "\n",
    "Como primera medida defino las funciones que utilizo para calcular el promedio de estudiantes, y la que uso para imprimir los estudiantes menores al promedio. En la funcion promedio notas utiluzo la funcion zip que me permite generar tuplas\n",
    "de los elementos para iterar sobre todos ellos al mismo tiempo. Ademas parseo los elementos de las notas para no tener problemas al sumarlas."
   ]
  },
  {
   "cell_type": "code",
   "execution_count": 2,
   "id": "1bfcbca7",
   "metadata": {},
   "outputs": [],
   "source": [
    "def promedioNotas (notas1, notas2):\n",
    "    \"\"\"toma las listas de notas y calcula el promedio de ambas\n",
    "    Args:\n",
    "        notas1 (list): notas del primer archivo\n",
    "        notas2 (list): notas del segundo archivo\n",
    "\n",
    "    Returns:\n",
    "        float: promedio de las notas\n",
    "    \"\"\"\n",
    "    total = 0\n",
    "    for nota, nota2 in zip (notas1, notas2):\n",
    "        total += int(nota) + int(nota2)\n",
    "    return (total/ (len(notas1)+ len(notas2)));\n",
    "\n",
    "def menorProm (estudiantes, promedio):\n",
    "    \"\"\"imprime los estudiantes menores al promedio\n",
    "\n",
    "    Args:\n",
    "        estudiantes (dict): estructura generada a partir de los archivos\n",
    "        promedio (float): promedio de estudiantes\n",
    "    \"\"\"\n",
    "    for estudiante in estudiantes:\n",
    "        if estudiante['nota'] < promedio:\n",
    "            print(estudiante)\n",
    "    return  "
   ]
  },
  {
   "cell_type": "markdown",
   "id": "ba38ef93",
   "metadata": {},
   "source": [
    "Abro los archivos con la declaración \"with\" para evitar hacer los close posteriormente, ademas especifico la forma de encodearlos para poder leerlos, porque de lo contrario, no me dejaba leerlo. "
   ]
  },
  {
   "cell_type": "code",
   "execution_count": 3,
   "id": "0400eda3",
   "metadata": {},
   "outputs": [],
   "source": [
    "with open('nombres_1.txt', 'r', encoding=\"utf8\") as n:\n",
    "    nombres = n.read().split()\n",
    "with open('eval1.txt', 'r', encoding='utf8') as n:\n",
    "    notas1 = n.read().split(',')\n",
    "with open('eval2.txt', 'r', encoding='utf8') as n:\n",
    "    notas2 = n.read().split(',')"
   ]
  },
  {
   "cell_type": "markdown",
   "id": "ad7309ca",
   "metadata": {},
   "source": [
    "Genero la lista donde voy a guardar a los estudiantes, los cuales seran un diccionario con su nombre y notas.\n",
    "Aqui estoy utilizando la funcion zip nuevamente, y con el append voy generando la lista de estudiantes."
   ]
  },
  {
   "cell_type": "code",
   "execution_count": 6,
   "id": "01e811b2",
   "metadata": {},
   "outputs": [],
   "source": [
    "estudiantes = []\n",
    "for nombre, nota1, nota2 in zip(nombres, notas1, notas2):\n",
    "    estudiante = {'nombre': nombre, 'nota': int(nota1) + int(nota2)}\n",
    "    estudiantes.append(estudiante)"
   ]
  },
  {
   "cell_type": "markdown",
   "id": "6ebac6c8",
   "metadata": {},
   "source": [
    "Y finalmente, creo una variable promedio, utilizando la funcion, para posteriormente llamar a la funcion que imprime los menores al promedio, finalizando el programa."
   ]
  },
  {
   "cell_type": "code",
   "execution_count": 8,
   "id": "37184f7a",
   "metadata": {},
   "outputs": [
    {
     "name": "stdout",
     "output_type": "stream",
     "text": [
      "48.09574468085106\n",
      "{'nombre': \"'Diego',\", 'nota': 33}\n",
      "{'nombre': \"'ELIANA',\", 'nota': 13}\n",
      "{'nombre': \"'Emanuel',\", 'nota': 48}\n",
      "{'nombre': \"'Ignacio',\", 'nota': 21}\n",
      "{'nombre': \"'NICOLÁS',\", 'nota': 22}\n",
      "{'nombre': \"'Priscila',\", 'nota': 24}\n"
     ]
    }
   ],
   "source": [
    "promedio = promedioNotas(notas1, notas2)\n",
    "print(promedio)\n",
    "menorProm(estudiantes, promedio)"
   ]
  },
  {
   "cell_type": "code",
   "execution_count": null,
   "id": "3de8637e",
   "metadata": {},
   "outputs": [],
   "source": []
  }
 ],
 "metadata": {
  "kernelspec": {
   "display_name": "Python 3 (ipykernel)",
   "language": "python",
   "name": "python3"
  },
  "language_info": {
   "codemirror_mode": {
    "name": "ipython",
    "version": 3
   },
   "file_extension": ".py",
   "mimetype": "text/x-python",
   "name": "python",
   "nbconvert_exporter": "python",
   "pygments_lexer": "ipython3",
   "version": "3.10.4"
  }
 },
 "nbformat": 4,
 "nbformat_minor": 5
}
